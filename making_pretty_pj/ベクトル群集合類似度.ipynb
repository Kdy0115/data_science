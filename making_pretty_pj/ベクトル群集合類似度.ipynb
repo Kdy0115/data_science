{
 "cells": [
  {
   "cell_type": "markdown",
   "metadata": {},
   "source": [
    "## ベクトル群集合写像特性による類似度計算"
   ]
  },
  {
   "cell_type": "code",
   "execution_count": 1,
   "metadata": {},
   "outputs": [],
   "source": [
    "# pandasモジュールの読み込み\n",
    "import pandas as pd\n",
    "# グラフ描画ライブラリmatplotlibの読み込み\n",
    "import matplotlib.pyplot as plt\n",
    "# 数値計算用ライブラリnumpyの読み込み\n",
    "import numpy as np\n",
    "# 村上3次元の特徴量データを読み込み\n",
    "# 引数にindex_col=0を入れなとUnnamed:0が追加されてしまう\n",
    "# index_colで指定した列をスタートで考えてくれる\n",
    "df = pd.read_csv('../CSV_DATA/arange_feature_all.csv',index_col=0)\n",
    "# 欠損値をすべて0に置換\n",
    "df = df.fillna(0)\n",
    "# インデックスを振り直す\n",
    "df = df.reset_index()"
   ]
  },
  {
   "cell_type": "code",
   "execution_count": 2,
   "metadata": {},
   "outputs": [],
   "source": [
    "murakami_value_data = df[:49]\n",
    "yoshi_value_data = df[50:98]\n",
    "rand_value_data = df[100:206]\n",
    "\n",
    "def arange_vec(vec):\n",
    "    return vec.drop(['Value_of_yoshi','Cloth_color','Value_of_murakami','name','index'],axis=1)\n",
    "\n",
    "murakami_value_data = np.array(arange_vec(murakami_value_data))\n",
    "yoshi_value_data = np.array(arange_vec(yoshi_value_data))\n",
    "\n",
    "rand_murakami_value_data = rand_value_data[rand_value_data['Value_of_murakami']==1]\n",
    "rand_murakami_value_data = np.array(arange_vec(rand_murakami_value_data))\n",
    "rand_yoshi_value_data = rand_value_data[rand_value_data['Value_of_yoshi']==1]\n",
    "rand_yoshi_value_data = np.array(arange_vec(rand_yoshi_value_data))"
   ]
  },
  {
   "cell_type": "code",
   "execution_count": 3,
   "metadata": {},
   "outputs": [],
   "source": [
    "def num_vec_sp(sp1,sp2):\n",
    "    sp_dummy1 = np.zeros((1,16)) # ベクトル空間ダミー1\n",
    "    sp_dummy2 = np.zeros((1,16)) # ベクトル空間ダミー2\n",
    "    min =10000 # max\n",
    "    index = 0 # インデックス\n",
    "    \n",
    "    for i in range(0,len(sp1)):\n",
    "        for j in range(0,len(sp2)):\n",
    "            if min > np.linalg.norm(sp1[i] - sp2[j]):\n",
    "                min = np.linalg.norm(sp1[i] - sp2[j])\n",
    "                index = j\n",
    "        sp_dummy1 = np.append(sp_dummy1,np.array([sp2[index]]),axis=0)\n",
    "        \n",
    "    for i in range(0,len(sp2)):\n",
    "        for j in range(0,len(sp1)):\n",
    "            if min > np.linalg.norm(sp2[i] - sp1[j]):\n",
    "                min = np.linalg.norm(sp2[i] - sp1[j])\n",
    "                index = j\n",
    "        sp_dummy2 = np.append(sp_dummy2,np.array([sp1[index]]),axis=0)\n",
    "        \n",
    "    set_1 = list(map(list, set(map(tuple, sp_dummy1))))\n",
    "    set_2 = list(map(list, set(map(tuple, sp_dummy2))))    \n",
    "    \n",
    "    print(set_1)\n",
    "    print(set_2)\n",
    "    \n",
    "\n",
    "    return (len(set_1) + len(set_2)) / (len(list(map(list, set(map(tuple, sp1))))) + len(list(map(list, set(map(tuple, sp2))))))"
   ]
  },
  {
   "cell_type": "code",
   "execution_count": 4,
   "metadata": {},
   "outputs": [
    {
     "name": "stdout",
     "output_type": "stream",
     "text": [
      "[[1.0, 1.0, 2.0, 3.0, 0.0, 0.0, 2.0, 2.0, 1.0, 2.0, 1.0, 2.0, 1.0, 2.0, 1.0, 1.0], [4.0, 1.0, 2.0, 3.0, 1.0, 0.0, 2.0, 3.0, 1.0, 1.0, 1.0, 3.0, 1.0, 2.0, 1.0, 1.0], [0.0, 0.0, 0.0, 0.0, 0.0, 0.0, 0.0, 0.0, 0.0, 0.0, 0.0, 0.0, 0.0, 0.0, 0.0, 0.0], [1.0, 2.0, 2.0, 3.0, 0.0, 0.0, 2.0, 1.0, 2.0, 1.0, 1.0, 3.0, 1.0, 3.0, 2.0, 1.0]]\n",
      "[[0.0, 0.0, 0.0, 0.0, 0.0, 0.0, 0.0, 0.0, 0.0, 0.0, 0.0, 0.0, 0.0, 0.0, 0.0, 0.0], [1.0, 1.0, 2.0, 3.0, 0.0, 0.0, 1.0, 2.0, 2.0, 2.0, 1.0, 3.0, 1.0, 2.0, 1.0, 1.0]]\n"
     ]
    }
   ],
   "source": [
    "sim = num_vec_sp(murakami_value_data,rand_murakami_value_data)"
   ]
  },
  {
   "cell_type": "code",
   "execution_count": 5,
   "metadata": {},
   "outputs": [
    {
     "name": "stdout",
     "output_type": "stream",
     "text": [
      "7.142857142857142%\n"
     ]
    }
   ],
   "source": [
    "print('{0}%'.format(sim*100))"
   ]
  },
  {
   "cell_type": "code",
   "execution_count": null,
   "metadata": {},
   "outputs": [],
   "source": []
  }
 ],
 "metadata": {
  "kernelspec": {
   "display_name": "Python 3",
   "language": "python",
   "name": "python3"
  },
  "language_info": {
   "codemirror_mode": {
    "name": "ipython",
    "version": 3
   },
   "file_extension": ".py",
   "mimetype": "text/x-python",
   "name": "python",
   "nbconvert_exporter": "python",
   "pygments_lexer": "ipython3",
   "version": "3.7.3"
  }
 },
 "nbformat": 4,
 "nbformat_minor": 2
}
